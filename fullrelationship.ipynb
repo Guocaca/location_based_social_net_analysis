{
 "cells": [
  {
   "cell_type": "code",
   "execution_count": 1,
   "metadata": {
    "collapsed": false
   },
   "outputs": [
    {
     "name": "stderr",
     "output_type": "stream",
     "text": [
      "/Users/chen/anaconda2/lib/python2.7/site-packages/matplotlib/font_manager.py:273: UserWarning: Matplotlib is building the font cache using fc-list. This may take a moment.\n",
      "  warnings.warn('Matplotlib is building the font cache using fc-list. This may take a moment.')\n"
     ]
    }
   ],
   "source": [
    "import snap\n",
    "from datetime import datetime\n",
    "import matplotlib.pyplot as plt\n",
    "import util\n",
    "import numpy as np\n",
    "from scipy.stats.stats import pearsonr\n",
    "\n",
    "edgeFile = 'brightkite/loc-brightkite_edges.txt'\n",
    "checkinFile = 'brightkite/loc-brightkite_totalCheckins.txt'\n",
    "\n",
    "# Build the Graphs\n",
    "userGraph, geoGraph, visitGraph, coordinates, checkins = util.buildGraphs(edgeFile, checkinFile)\n",
    "userList = []\n",
    "for node in userGraph.Nodes():\n",
    "    Id = node.GetId()\n",
    "    if visitGraph.IsNode(Id):\n",
    "        userList.append(Id)\n",
    "locList = []\n",
    "for node in geoGraph.Nodes():\n",
    "    Id = node.GetId()\n",
    "    locNI = visitGraph.GetNI(Id)\n",
    "    deg = locNI.GetDeg()\n",
    "    if deg != 0:\n",
    "        locList.append(Id)"
   ]
  },
  {
   "cell_type": "code",
   "execution_count": 19,
   "metadata": {
    "collapsed": false
   },
   "outputs": [],
   "source": [
    "EiFiles = ['degreeIndex_part.txt', 'newRateIndex_part.txt', 'dominanceI2.txt']\n",
    "BiFiles = ['loc_degreeI.txt', 'loc_edgenumI.txt', 'loc_entropyI.txt']\n",
    "userMeanCorr = np.zeros((3, 3))\n",
    "userMeanPvalue = np.zeros((3, 3))\n",
    "userMedianCorr = np.zeros((3, 3))\n",
    "userMedianPvalue = np.zeros((3, 3))\n",
    "locMeanCorr = np.zeros((3, 3))\n",
    "locMeanPvalue = np.zeros((3, 3))\n",
    "locMedianCorr = np.zeros((3, 3))\n",
    "locMedianPvalue = np.zeros((3, 3))\n",
    "for i in xrange(3):\n",
    "    for j in xrange(3):\n",
    "        EiFile = EiFiles[i]\n",
    "        BiFile = BiFiles[j]\n",
    "        EiList = []\n",
    "        with open(EiFile) as f:\n",
    "            for line in f: EiList.append(float(line.split()[0]))\n",
    "        Eis = {userList[i]:EiList[i] for i in xrange(len(userList))}\n",
    "        BiList = []\n",
    "        with open(BiFile) as f:\n",
    "            for line in f: BiList.append(float(line.split()[0]))\n",
    "        Bis = {locList[i]:BiList[i] for i in xrange(len(locList))}\n",
    "        userMeanBi = []\n",
    "        userMedianBi = []\n",
    "        for userId in userList:\n",
    "            NI = visitGraph.GetNI(userId)\n",
    "            deg = NI.GetDeg()\n",
    "            BiList = []\n",
    "            for k in xrange(deg):\n",
    "                BiList.append(Bis[NI.GetNbrNId(k)])\n",
    "            userMeanBi.append(np.average(BiList))\n",
    "            userMedianBi.append(np.median(BiList))\n",
    "        c, p = pearsonr(EiList, userMeanBi)\n",
    "        userMeanCorr[i][j] = c\n",
    "        userMeanPvalue[i][j] = p\n",
    "        c, p = pearsonr(EiList, userMedianBi)\n",
    "        userMedianCorr[i][j] = c\n",
    "        userMedianPvalue[i][j] = p\n",
    "        \n",
    "        locMeanEi = []\n",
    "        locMedianEi = []\n",
    "        for locId in locList:\n",
    "            NI = visitGraph.GetNI(locId)\n",
    "            deg = NI.GetDeg()\n",
    "            EiList = []\n",
    "            for k in xrange(deg):\n",
    "                EiList.append(Eis[NI.GetNbrNId(k)])\n",
    "            locMeanEi.append(np.average(EiList))\n",
    "            locMedianEi.append(np.median(EiList))\n",
    "        c, p = pearsonr(BiList, locMeanEi)\n",
    "        locMeanCorr[i][j] = c\n",
    "        locMeanPvalue[i][j] = p\n",
    "        c, p = pearsonr(BiList, locMedianEi)\n",
    "        locMedianCorr[i][j] = c\n",
    "        locMedianPvalue[i][j] = p"
   ]
  },
  {
   "cell_type": "code",
   "execution_count": 6,
   "metadata": {
    "collapsed": false
   },
   "outputs": [
    {
     "data": {
      "text/plain": [
       "array([[-0.00515442,  0.02125592, -0.01650382],\n",
       "       [ 0.00275286,  0.00730425, -0.01022218],\n",
       "       [ 0.01053717,  0.03886129, -0.15163613]])"
      ]
     },
     "execution_count": 6,
     "metadata": {},
     "output_type": "execute_result"
    }
   ],
   "source": [
    "userMeanCorr"
   ]
  },
  {
   "cell_type": "code",
   "execution_count": 9,
   "metadata": {
    "collapsed": false
   },
   "outputs": [
    {
     "data": {
      "text/plain": [
       "array([[  4.40481217e-03,   1.57612971e-04,   1.51761725e-11],\n",
       "       [  7.69138877e-01,   8.67912904e-01,   3.19115218e-03],\n",
       "       [  3.99256210e-01,   3.59011659e-49,   0.00000000e+00]])"
      ]
     },
     "execution_count": 9,
     "metadata": {},
     "output_type": "execute_result"
    }
   ],
   "source": [
    "userMedianPvalue"
   ]
  },
  {
   "cell_type": "code",
   "execution_count": 10,
   "metadata": {
    "collapsed": false
   },
   "outputs": [
    {
     "data": {
      "text/plain": [
       "array([[  2.42550990e-001,   1.43732176e-006,   1.82520317e-004],\n",
       "       [  5.32535735e-001,   9.77083954e-002,   2.04674211e-002],\n",
       "       [  1.68902382e-002,   1.20658274e-018,   5.12208463e-262]])"
      ]
     },
     "execution_count": 10,
     "metadata": {},
     "output_type": "execute_result"
    }
   ],
   "source": [
    "userMeanPvalue"
   ]
  },
  {
   "cell_type": "code",
   "execution_count": 17,
   "metadata": {
    "collapsed": false
   },
   "outputs": [
    {
     "data": {
      "text/plain": [
       "array([[ 0.,  0.,  0.],\n",
       "       [ 0.,  0.,  0.],\n",
       "       [ 0.,  0.,  0.]])"
      ]
     },
     "execution_count": 17,
     "metadata": {},
     "output_type": "execute_result"
    }
   ],
   "source": [
    "userMedianCorr"
   ]
  },
  {
   "cell_type": "code",
   "execution_count": 20,
   "metadata": {
    "collapsed": false
   },
   "outputs": [
    {
     "data": {
      "text/plain": [
       "array([[-0.00675577,  0.03747647,  0.02913217],\n",
       "       [-0.00215663,  0.01070426,  0.00672266],\n",
       "       [-0.01918204,  0.04069632,  0.00928845]])"
      ]
     },
     "execution_count": 20,
     "metadata": {},
     "output_type": "execute_result"
    }
   ],
   "source": [
    "locMeanCorr"
   ]
  },
  {
   "cell_type": "code",
   "execution_count": 21,
   "metadata": {
    "collapsed": false
   },
   "outputs": [
    {
     "data": {
      "text/plain": [
       "array([[  2.86063507e-009,   3.14286327e-238,   9.86976709e-145],\n",
       "       [  5.79598552e-002,   4.91828879e-021,   3.41504569e-009],\n",
       "       [  8.07939671e-064,   1.41943288e-280,   3.18485252e-016]])"
      ]
     },
     "execution_count": 21,
     "metadata": {},
     "output_type": "execute_result"
    }
   ],
   "source": [
    "locMeanPvalue"
   ]
  },
  {
   "cell_type": "code",
   "execution_count": 23,
   "metadata": {
    "collapsed": false
   },
   "outputs": [
    {
     "data": {
      "text/plain": [
       "array([[-0.02406826,  0.01868617, -0.02736846],\n",
       "       [-0.00176587,  0.01245678,  0.01180645],\n",
       "       [-0.03226543,  0.02673781, -0.03228593]])"
      ]
     },
     "execution_count": 23,
     "metadata": {},
     "output_type": "execute_result"
    }
   ],
   "source": [
    "locMedianCorr"
   ]
  },
  {
   "cell_type": "code",
   "execution_count": 24,
   "metadata": {
    "collapsed": false
   },
   "outputs": [
    {
     "data": {
      "text/plain": [
       "array([[  2.10909069e-099,   1.17862221e-060,   5.74783824e-128],\n",
       "       [  1.20550344e-001,   6.51372205e-028,   3.05770025e-025],\n",
       "       [  4.29015833e-177,   3.16701883e-122,   2.56969306e-177]])"
      ]
     },
     "execution_count": 24,
     "metadata": {},
     "output_type": "execute_result"
    }
   ],
   "source": [
    "locMedianPvalue"
   ]
  },
  {
   "cell_type": "code",
   "execution_count": 25,
   "metadata": {
    "collapsed": false
   },
   "outputs": [
    {
     "data": {
      "text/plain": [
       "58228"
      ]
     },
     "execution_count": 25,
     "metadata": {},
     "output_type": "execute_result"
    }
   ],
   "source": [
    "userGraph.GetNodes()"
   ]
  },
  {
   "cell_type": "code",
   "execution_count": 26,
   "metadata": {
    "collapsed": false
   },
   "outputs": [
    {
     "data": {
      "text/plain": [
       "214078"
      ]
     },
     "execution_count": 26,
     "metadata": {},
     "output_type": "execute_result"
    }
   ],
   "source": [
    "userGraph.GetEdges()"
   ]
  },
  {
   "cell_type": "code",
   "execution_count": 27,
   "metadata": {
    "collapsed": false
   },
   "outputs": [
    {
     "data": {
      "text/plain": [
       "772966"
      ]
     },
     "execution_count": 27,
     "metadata": {},
     "output_type": "execute_result"
    }
   ],
   "source": [
    "geoGraph.GetNodes()"
   ]
  },
  {
   "cell_type": "code",
   "execution_count": 28,
   "metadata": {
    "collapsed": false
   },
   "outputs": [
    {
     "data": {
      "text/plain": [
       "1549224"
      ]
     },
     "execution_count": 28,
     "metadata": {},
     "output_type": "execute_result"
    }
   ],
   "source": [
    "geoGraph.GetEdges()"
   ]
  },
  {
   "cell_type": "code",
   "execution_count": 29,
   "metadata": {
    "collapsed": false
   },
   "outputs": [
    {
     "data": {
      "text/plain": [
       "824372"
      ]
     },
     "execution_count": 29,
     "metadata": {},
     "output_type": "execute_result"
    }
   ],
   "source": [
    "visitGraph.GetNodes()"
   ]
  },
  {
   "cell_type": "code",
   "execution_count": 30,
   "metadata": {
    "collapsed": false
   },
   "outputs": [
    {
     "data": {
      "text/plain": [
       "1076043"
      ]
     },
     "execution_count": 30,
     "metadata": {},
     "output_type": "execute_result"
    }
   ],
   "source": [
    "visitGraph.GetEdges()"
   ]
  },
  {
   "cell_type": "code",
   "execution_count": null,
   "metadata": {
    "collapsed": true
   },
   "outputs": [],
   "source": []
  }
 ],
 "metadata": {
  "anaconda-cloud": {},
  "kernelspec": {
   "display_name": "Python [conda root]",
   "language": "python",
   "name": "conda-root-py"
  },
  "language_info": {
   "codemirror_mode": {
    "name": "ipython",
    "version": 2
   },
   "file_extension": ".py",
   "mimetype": "text/x-python",
   "name": "python",
   "nbconvert_exporter": "python",
   "pygments_lexer": "ipython2",
   "version": "2.7.12"
  }
 },
 "nbformat": 4,
 "nbformat_minor": 1
}
