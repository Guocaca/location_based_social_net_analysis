{
 "cells": [
  {
   "cell_type": "code",
   "execution_count": 2,
   "metadata": {
    "collapsed": false
   },
   "outputs": [
    {
     "name": "stderr",
     "output_type": "stream",
     "text": [
      "/Users/chen/anaconda2/lib/python2.7/site-packages/matplotlib/font_manager.py:273: UserWarning: Matplotlib is building the font cache using fc-list. This may take a moment.\n",
      "  warnings.warn('Matplotlib is building the font cache using fc-list. This may take a moment.')\n"
     ]
    }
   ],
   "source": [
    "import snap\n",
    "from datetime import datetime\n",
    "import matplotlib.pyplot as plt\n",
    "import util\n",
    "\n",
    "edgeFile = 'brightkite/loc-brightkite_edges.txt'\n",
    "checkinFile = 'brightkite/loc-brightkite_totalCheckins.txt'\n",
    "\n",
    "# Build the Graphs\n",
    "userGraph, geoGraph, visitGraph, coordinates, checkins = util.buildGraphs(edgeFile, checkinFile)\n",
    "\n",
    "# Degree distributions\n",
    "util.userDeg(userGraph)\n",
    "util.geoDeg(geoGraph)\n",
    "util.visitDeg(visitGraph)"
   ]
  },
  {
   "cell_type": "code",
   "execution_count": 2,
   "metadata": {
    "collapsed": false
   },
   "outputs": [
    {
     "name": "stderr",
     "output_type": "stream",
     "text": [
      "/Users/chen/anaconda2/lib/python2.7/site-packages/matplotlib/font_manager.py:273: UserWarning: Matplotlib is building the font cache using fc-list. This may take a moment.\n",
      "  warnings.warn('Matplotlib is building the font cache using fc-list. This may take a moment.')\n"
     ]
    }
   ],
   "source": [
    "import snap\n",
    "from datetime import datetime\n",
    "import matplotlib.pyplot as plt\n",
    "import pandas as pd\n",
    "import random"
   ]
  },
  {
   "cell_type": "code",
   "execution_count": 8,
   "metadata": {
    "collapsed": false
   },
   "outputs": [],
   "source": [
    "import numpy as np\n",
    "degreeI = []\n",
    "edgeNumI = []\n",
    "entropyI = []\n",
    "for node in geoGraph.Nodes():\n",
    "    locId = node.GetId()\n",
    "    locNI = visitGraph.GetNI(locId)\n",
    "    deg = locNI.GetDeg()\n",
    "    if deg != 0:\n",
    "        NIdV = snap.TIntV()\n",
    "        visits = []\n",
    "        for i in xrange(deg):\n",
    "            userId = locNI.GetNbrNId(i)\n",
    "            NIdV.Add(userId)\n",
    "            EI = visitGraph.GetEI(userId, locId)\n",
    "            visits.append(visitGraph.GetIntAttrDatE(EI, 'w'))\n",
    "        subUserGraph = snap.GetSubGraph(userGraph, NIdV)\n",
    "        numNodes = subUserGraph.GetNodes()\n",
    "        numEdges = subUserGraph.GetEdges()\n",
    "        sumDeg = 0\n",
    "        for node in subUserGraph.Nodes():\n",
    "            sumDeg += node.GetDeg()\n",
    "        degreeI.append(1.0 * numNodes / (sumDeg + 0.1))\n",
    "        edgeNumI.append(1.0 * numEdges / (numNodes ** 2 / 2.0))\n",
    "        probVisits = [1.0 * visit / sum(visits) for visit in visits]\n",
    "        entropyI.append(-np.dot(np.array(probVisits), np.log(probVisits)))\n",
    "\n",
    "with open('loc_degreeI.txt', 'w') as f:\n",
    "    f.write('\\n'.join([str(i) for i in degreeI]))\n",
    "with open('loc_edgenumI.txt', 'w') as f:\n",
    "    f.write('\\n'.join([str(i) for i in edgeNumI]))\n",
    "with open('loc_entropyI.txt', 'w') as f:\n",
    "    f.write('\\n'.join([str(i) for i in entropyI]))"
   ]
  },
  {
   "cell_type": "code",
   "execution_count": 7,
   "metadata": {
    "collapsed": false
   },
   "outputs": [
    {
     "name": "stdout",
     "output_type": "stream",
     "text": [
      "a\n"
     ]
    }
   ],
   "source": [
    "degreeI = []\n",
    "edgeNumI = []\n",
    "entropyI = []\n",
    "with open('loc_degreeI.txt') as f:\n",
    "    for line in f: degreeI.append(float(line.split()[0]))\n",
    "with open('loc_edgenumI.txt') as f:\n",
    "    for line in f: edgeNumI.append(float(line.split()[0]))\n",
    "with open('loc_entropyI.txt') as f:\n",
    "    for line in f: entropyI.append(float(line.split()[0]))\n",
    "n = len(degreeI)\n",
    "ind = random.sample(range(n), 700000)\n",
    "a = [degreeI[i] for i in ind]\n",
    "b = [edgeNumI[i] for i in ind]\n",
    "c = [entropyI[i] for i in ind]\n",
    "df = pd.DataFrame({'1/Degree Index':a, 'Edge Number Index': b, 'Entropy Index': c})\n",
    "pd.tools.plotting.scatter_matrix(df, figsize=(20, 20), diagonal='kde')\n",
    "print 'a'\n",
    "plt.savefig('loc_scatter_matrix.png')\n",
    "plt.close()"
   ]
  },
  {
   "cell_type": "code",
   "execution_count": 1,
   "metadata": {
    "collapsed": false
   },
   "outputs": [
    {
     "ename": "NameError",
     "evalue": "name 'degreeI' is not defined",
     "output_type": "error",
     "traceback": [
      "\u001b[0;31m---------------------------------------------------------------------------\u001b[0m",
      "\u001b[0;31mNameError\u001b[0m                                 Traceback (most recent call last)",
      "\u001b[0;32m<ipython-input-1-72caf56a43c6>\u001b[0m in \u001b[0;36m<module>\u001b[0;34m()\u001b[0m\n\u001b[1;32m      1\u001b[0m \u001b[0;32mimport\u001b[0m \u001b[0mpandas\u001b[0m \u001b[0;32mas\u001b[0m \u001b[0mpd\u001b[0m\u001b[0;34m\u001b[0m\u001b[0m\n\u001b[0;32m----> 2\u001b[0;31m \u001b[0mdf\u001b[0m \u001b[0;34m=\u001b[0m \u001b[0mpd\u001b[0m\u001b[0;34m.\u001b[0m\u001b[0mDataFrame\u001b[0m\u001b[0;34m(\u001b[0m\u001b[0;34m{\u001b[0m\u001b[0;34m'1/Degree Index'\u001b[0m\u001b[0;34m:\u001b[0m\u001b[0mdegreeI\u001b[0m\u001b[0;34m,\u001b[0m \u001b[0;34m'Edge Number Index'\u001b[0m\u001b[0;34m:\u001b[0m \u001b[0medgeNumI\u001b[0m\u001b[0;34m,\u001b[0m \u001b[0;34m'Entropy Index'\u001b[0m\u001b[0;34m:\u001b[0m \u001b[0mentropyI\u001b[0m\u001b[0;34m}\u001b[0m\u001b[0;34m)\u001b[0m\u001b[0;34m\u001b[0m\u001b[0m\n\u001b[0m\u001b[1;32m      3\u001b[0m \u001b[0mpd\u001b[0m\u001b[0;34m.\u001b[0m\u001b[0mtools\u001b[0m\u001b[0;34m.\u001b[0m\u001b[0mplotting\u001b[0m\u001b[0;34m.\u001b[0m\u001b[0mscatter_matrix\u001b[0m\u001b[0;34m(\u001b[0m\u001b[0mdf\u001b[0m\u001b[0;34m,\u001b[0m \u001b[0malpha\u001b[0m\u001b[0;34m=\u001b[0m\u001b[0;36m0.2\u001b[0m\u001b[0;34m,\u001b[0m \u001b[0mfigsize\u001b[0m\u001b[0;34m=\u001b[0m\u001b[0;34m(\u001b[0m\u001b[0;36m20\u001b[0m\u001b[0;34m,\u001b[0m \u001b[0;36m20\u001b[0m\u001b[0;34m)\u001b[0m\u001b[0;34m,\u001b[0m \u001b[0mdiagonal\u001b[0m\u001b[0;34m=\u001b[0m\u001b[0;34m'kde'\u001b[0m\u001b[0;34m)\u001b[0m\u001b[0;34m\u001b[0m\u001b[0m\n\u001b[1;32m      4\u001b[0m \u001b[0mplt\u001b[0m\u001b[0;34m.\u001b[0m\u001b[0msavefig\u001b[0m\u001b[0;34m(\u001b[0m\u001b[0;34m'loc_scatter_matrix.png'\u001b[0m\u001b[0;34m)\u001b[0m\u001b[0;34m\u001b[0m\u001b[0m\n\u001b[1;32m      5\u001b[0m \u001b[0mplt\u001b[0m\u001b[0;34m.\u001b[0m\u001b[0mclose\u001b[0m\u001b[0;34m(\u001b[0m\u001b[0;34m)\u001b[0m\u001b[0;34m\u001b[0m\u001b[0m\n",
      "\u001b[0;31mNameError\u001b[0m: name 'degreeI' is not defined"
     ]
    }
   ],
   "source": [
    "import pandas as pd\n",
    "df = pd.DataFrame({'1/Degree Index':degreeI, 'Edge Number Index': edgeNumI, 'Entropy Index': entropyI})\n",
    "pd.tools.plotting.scatter_matrix(df, alpha=0.2, figsize=(20, 20), diagonal='kde')\n",
    "plt.savefig('loc_scatter_matrix.png')\n",
    "plt.close()"
   ]
  },
  {
   "cell_type": "code",
   "execution_count": 10,
   "metadata": {
    "collapsed": false
   },
   "outputs": [
    {
     "data": {
      "text/plain": [
       "772907"
      ]
     },
     "execution_count": 10,
     "metadata": {},
     "output_type": "execute_result"
    }
   ],
   "source": [
    "len(entropyI)"
   ]
  },
  {
   "cell_type": "code",
   "execution_count": null,
   "metadata": {
    "collapsed": true
   },
   "outputs": [],
   "source": []
  }
 ],
 "metadata": {
  "kernelspec": {
   "display_name": "Python [conda root]",
   "language": "python",
   "name": "conda-root-py"
  },
  "language_info": {
   "codemirror_mode": {
    "name": "ipython",
    "version": 2
   },
   "file_extension": ".py",
   "mimetype": "text/x-python",
   "name": "python",
   "nbconvert_exporter": "python",
   "pygments_lexer": "ipython2",
   "version": "2.7.12"
  }
 },
 "nbformat": 4,
 "nbformat_minor": 1
}
