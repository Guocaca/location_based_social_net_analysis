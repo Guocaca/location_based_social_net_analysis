{
 "cells": [
  {
   "cell_type": "code",
   "execution_count": 1,
   "metadata": {
    "collapsed": false
   },
   "outputs": [
    {
     "name": "stderr",
     "output_type": "stream",
     "text": [
      "/Users/chen/anaconda2/lib/python2.7/site-packages/matplotlib/font_manager.py:273: UserWarning: Matplotlib is building the font cache using fc-list. This may take a moment.\n",
      "  warnings.warn('Matplotlib is building the font cache using fc-list. This may take a moment.')\n"
     ]
    }
   ],
   "source": [
    "import snap\n",
    "from datetime import datetime\n",
    "import matplotlib.pyplot as plt\n",
    "import util\n",
    "\n",
    "edgeFile = 'brightkite/loc-brightkite_edges.txt'\n",
    "checkinFile = 'brightkite/loc-brightkite_totalCheckins.txt'\n",
    "\n",
    "# Build the Graphs\n",
    "userGraph, geoGraph, visitGraph, coordinates, checkins = util.buildGraphs(edgeFile, checkinFile)"
   ]
  },
  {
   "cell_type": "code",
   "execution_count": 7,
   "metadata": {
    "collapsed": false
   },
   "outputs": [],
   "source": [
    "userList = []\n",
    "for node in userGraph.Nodes():\n",
    "    Id = node.GetId()\n",
    "    if visitGraph.IsNode(Id):\n",
    "        userList.append(Id)\n",
    "dominanceI = []\n",
    "with open('dominanceI2.txt') as f:\n",
    "    for line in f: dominanceI.append(int(line.split()[0]))\n",
    "Eis = {userList[i]:dominanceI[i] for i in xrange(len(userList))}"
   ]
  },
  {
   "cell_type": "code",
   "execution_count": 10,
   "metadata": {
    "collapsed": false
   },
   "outputs": [],
   "source": [
    "locList = []\n",
    "for node in geoGraph.Nodes():\n",
    "    Id = node.GetId()\n",
    "    locNI = visitGraph.GetNI(Id)\n",
    "    deg = locNI.GetDeg()\n",
    "    if deg != 0:\n",
    "        locList.append(Id)\n",
    "\n",
    "entropyI = []\n",
    "with open('loc_entropyI.txt') as f:\n",
    "    for line in f: entropyI.append(float(line.split()[0]))\n",
    "Bis = {locList[i]:entropyI[i] for i in xrange(len(locList))}"
   ]
  },
  {
   "cell_type": "code",
   "execution_count": 15,
   "metadata": {
    "collapsed": false
   },
   "outputs": [],
   "source": [
    "import numpy as np\n",
    "userMeanBi = []\n",
    "userMedianBi = []\n",
    "for userId in userList:\n",
    "    NI = visitGraph.GetNI(userId)\n",
    "    deg = NI.GetDeg()\n",
    "    BiList = []\n",
    "    for k in xrange(deg):\n",
    "        BiList.append(Bis[NI.GetNbrNId(k)])\n",
    "    userMeanBi.append(np.average(BiList))\n",
    "    userMedianBi.append(np.median(BiList))"
   ]
  },
  {
   "cell_type": "code",
   "execution_count": 30,
   "metadata": {
    "collapsed": false
   },
   "outputs": [],
   "source": [
    "fig = plt.figure(figsize = (6,6))\n",
    "p1 = plt.scatter(dominanceI, userMeanBi, s = 0.5, color = '#ff7373', edgecolors = 'face')\n",
    "p2 = plt.scatter(dominanceI, userMedianBi, s = 0.5, color = '#00ced1', edgecolors = 'face')\n",
    "plt.legend((p1, p2), ('Mean', 'Median'))\n",
    "plt.xlabel('E_i for Users')\n",
    "plt.ylabel(\"Mean/Median of neighbors' B_i\")\n",
    "plt.savefig('user_loc_test.png')\n",
    "plt.close()\n",
    "fig = plt.figure(figsize = (6,6))\n",
    "p1 = plt.scatter(entropyI, locMeanEi, s = 0.5, color = '#ff7373', edgecolors = 'face')\n",
    "p2 = plt.scatter(entropyI, locMedianEi, s = 0.5, color = '#00ced1', edgecolors = 'face')\n",
    "plt.legend((p1, p2), ('Mean', 'Median'))\n",
    "plt.xlabel('B_i for Places')\n",
    "plt.ylabel(\"Mean/Median of neighbors' E_i\")\n",
    "plt.savefig('loc_user_test.png')\n",
    "plt.close()"
   ]
  },
  {
   "cell_type": "code",
   "execution_count": 18,
   "metadata": {
    "collapsed": false
   },
   "outputs": [
    {
     "name": "stdout",
     "output_type": "stream",
     "text": [
      "(-0.15163612681231411, 5.1220846255731259e-262)\n"
     ]
    }
   ],
   "source": [
    "from scipy.stats.stats import pearsonr\n",
    "print pearsonr(dominanceI,userMeanBi)"
   ]
  },
  {
   "cell_type": "code",
   "execution_count": 19,
   "metadata": {
    "collapsed": false
   },
   "outputs": [
    {
     "name": "stdout",
     "output_type": "stream",
     "text": [
      "(-0.17859827453384519, 0.0)\n"
     ]
    }
   ],
   "source": [
    "print pearsonr(dominanceI,userMedianBi)"
   ]
  },
  {
   "cell_type": "code",
   "execution_count": 23,
   "metadata": {
    "collapsed": true
   },
   "outputs": [],
   "source": [
    "import numpy as np\n",
    "locMeanEi = []\n",
    "locMedianEi = []\n",
    "for locId in locList:\n",
    "    NI = visitGraph.GetNI(locId)\n",
    "    deg = NI.GetDeg()\n",
    "    EiList = []\n",
    "    for k in xrange(deg):\n",
    "        EiList.append(Eis[NI.GetNbrNId(k)])\n",
    "    locMeanEi.append(np.average(EiList))\n",
    "    locMedianEi.append(np.median(EiList))"
   ]
  },
  {
   "cell_type": "code",
   "execution_count": 28,
   "metadata": {
    "collapsed": false
   },
   "outputs": [],
   "source": [
    "fig = plt.figure(figsize = (6,6))\n",
    "p1 = plt.scatter(entropyI, locMeanEi, s = 0.5, color = '#ff7373', edgecolors = 'face')\n",
    "p2 = plt.scatter(entropyI, locMedianEi, s = 0.5, color = '#00ced1', edgecolors = 'face')\n",
    "plt.legend((p1, p2), ('Mean', 'Median'))\n",
    "plt.xlabel('B_i for Places')\n",
    "plt.ylabel(\"Mean/Median of neighbors' E_i\")\n",
    "plt.savefig('loc_user_test.pdf')\n",
    "plt.close()"
   ]
  },
  {
   "cell_type": "code",
   "execution_count": 26,
   "metadata": {
    "collapsed": false
   },
   "outputs": [
    {
     "data": {
      "text/plain": [
       "(0.0092884467140635779, 3.1848525161331999e-16)"
      ]
     },
     "execution_count": 26,
     "metadata": {},
     "output_type": "execute_result"
    }
   ],
   "source": [
    "pearsonr(entropyI, locMeanEi)"
   ]
  },
  {
   "cell_type": "code",
   "execution_count": 27,
   "metadata": {
    "collapsed": false
   },
   "outputs": [
    {
     "data": {
      "text/plain": [
       "(-0.032285928701726994, 2.5696930630619102e-177)"
      ]
     },
     "execution_count": 27,
     "metadata": {},
     "output_type": "execute_result"
    }
   ],
   "source": [
    "pearsonr(entropyI, locMedianEi)"
   ]
  },
  {
   "cell_type": "code",
   "execution_count": null,
   "metadata": {
    "collapsed": true
   },
   "outputs": [],
   "source": []
  }
 ],
 "metadata": {
  "anaconda-cloud": {},
  "kernelspec": {
   "display_name": "Python [conda root]",
   "language": "python",
   "name": "conda-root-py"
  },
  "language_info": {
   "codemirror_mode": {
    "name": "ipython",
    "version": 2
   },
   "file_extension": ".py",
   "mimetype": "text/x-python",
   "name": "python",
   "nbconvert_exporter": "python",
   "pygments_lexer": "ipython2",
   "version": "2.7.12"
  }
 },
 "nbformat": 4,
 "nbformat_minor": 1
}
