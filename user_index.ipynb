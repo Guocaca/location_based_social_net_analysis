{
 "cells": [
  {
   "cell_type": "code",
   "execution_count": 1,
   "metadata": {
    "collapsed": false
   },
   "outputs": [
    {
     "name": "stderr",
     "output_type": "stream",
     "text": [
      "/Users/chen/anaconda2/lib/python2.7/site-packages/matplotlib/font_manager.py:273: UserWarning: Matplotlib is building the font cache using fc-list. This may take a moment.\n",
      "  warnings.warn('Matplotlib is building the font cache using fc-list. This may take a moment.')\n"
     ]
    }
   ],
   "source": [
    "import snap\n",
    "from datetime import datetime\n",
    "import matplotlib.pyplot as plt\n",
    "import util\n",
    "\n",
    "edgeFile = 'brightkite/loc-brightkite_edges.txt'\n",
    "checkinFile = 'brightkite/loc-brightkite_totalCheckins.txt'\n",
    "\n",
    "# Build the Graphs\n",
    "userGraph, geoGraph, visitGraph, coordinates, checkins = util.buildGraphs(edgeFile, checkinFile)\n",
    "\n",
    "# Degree distributions\n",
    "util.userDeg(userGraph)\n",
    "util.geoDeg(geoGraph)\n",
    "util.visitDeg(visitGraph)"
   ]
  },
  {
   "cell_type": "code",
   "execution_count": 68,
   "metadata": {
    "collapsed": false
   },
   "outputs": [],
   "source": [
    "userNum = userGraph.GetNodes()\n",
    "placeNumI = []\n",
    "newRateI = []\n",
    "for node in userGraph.Nodes():\n",
    "    NId = node.GetId()\n",
    "    if NId in checkins.keys():\n",
    "        checkinfo = checkins[NId]\n",
    "        timeline = sorted(checkinfo.items(), key = lambda x:x[0])\n",
    "        places = [item[1] for item in timeline]\n",
    "        placeNumI.append(len(set(places)))\n",
    "        oldIndex = len(places) / 2\n",
    "        old = set(places[0:oldIndex])\n",
    "        newVisit = 0\n",
    "        for k in places[oldIndex:]:\n",
    "            if k not in old:\n",
    "                newVisit += 1\n",
    "        newRateI.append(1.0 * newVisit / (len(places) - oldIndex))"
   ]
  },
  {
   "cell_type": "code",
   "execution_count": 23,
   "metadata": {
    "collapsed": false
   },
   "outputs": [],
   "source": [
    "plt.scatter(placeNumI, newRateI, s = 0.5, edgecolors = 'face')\n",
    "plt.savefig('test.pdf')\n",
    "plt.close()"
   ]
  },
  {
   "cell_type": "code",
   "execution_count": 72,
   "metadata": {
    "collapsed": true
   },
   "outputs": [],
   "source": [
    "new = dict(collections.Counter(newRateI))\n",
    "sortednew = sorted(new.items(), key = lambda x:x[0], reverse = True)\n",
    "x = [item[0] for item in sortednew]\n",
    "y = [item[1] for item in sortednew]\n",
    "plt.plot(x, y)\n",
    "plt.xscale('log')\n",
    "plt.yscale('log')\n",
    "plt.xlim(xmax = 10)\n",
    "plt.savefig('newrate_dist.pdf')\n",
    "plt.close()"
   ]
  },
  {
   "cell_type": "code",
   "execution_count": 57,
   "metadata": {
    "collapsed": false
   },
   "outputs": [],
   "source": [
    "import collections\n",
    "dominant = []\n",
    "dominantRate = []\n",
    "timeStart = datetime.now()\n",
    "for node in userGraph.Nodes():\n",
    "    NId = node.GetId()\n",
    "    if NId in checkins.keys():\n",
    "        checkinfo = checkins[NId]\n",
    "        timeline = sorted(checkinfo.items(), key = lambda x:x[0])\n",
    "        places = [item[1] for item in timeline]\n",
    "        Pmc = util.massCenter(places, coordinates)\n",
    "        placeNum = len(dict(collections.Counter(places)))\n",
    "        R = util.radius(places, coordinates, Pmc)\n",
    "        for k in xrange(1, placeNum + 1):\n",
    "            if util.radius(places, coordinates, util.massCenterK(places, coordinates, k)) <= 1.05 * R:\n",
    "                dominantRate.append(100.0 * k / placeNum)\n",
    "                dominant.append(k)\n",
    "                break"
   ]
  },
  {
   "cell_type": "code",
   "execution_count": 74,
   "metadata": {
    "collapsed": false
   },
   "outputs": [],
   "source": [
    "# Test delta\n",
    "deltas = [1.005, 1.01, 1.02, 1.03, 1.04, 1.05]\n",
    "plots = [None] * 6\n",
    "for i in xrange(6):\n",
    "    delta = deltas[i]\n",
    "    dominant = []\n",
    "    dominantRate = []\n",
    "    for node in userGraph.Nodes():\n",
    "        NId = node.GetId()\n",
    "        if NId in checkins.keys():\n",
    "            checkinfo = checkins[NId]\n",
    "            timeline = sorted(checkinfo.items(), key = lambda x:x[0])\n",
    "            places = [item[1] for item in timeline]\n",
    "            Pmc = util.massCenter(places, coordinates)\n",
    "            placeNum = len(dict(collections.Counter(places)))\n",
    "            R = util.radius(places, coordinates, Pmc)\n",
    "            for k in xrange(1, placeNum + 1):\n",
    "                if util.radius(places, coordinates, util.massCenterK(places, coordinates, k)) <= delta * R:\n",
    "                    # dominantRate.append(100.0 * k / placeNum)\n",
    "                    dominant.append(k)\n",
    "                    break\n",
    "    domi = dict(collections.Counter(dominant))\n",
    "    sorteddomi = sorted(domi.items(), key = lambda x:x[0], reverse = True)\n",
    "    x = [item[0] for item in sorteddomi]\n",
    "    y = [item[1] for item in sorteddomi]\n",
    "    plt.plot(x, y)\n",
    "    plots[i] ,= plt.plot(x, y)\n",
    "plt.xscale('log')\n",
    "plt.yscale('log')\n",
    "plt.legend(tuple(plots), tuple(deltas))\n",
    "plt.xlabel('Dominance Index')\n",
    "plt.ylabel('Frequency')\n",
    "plt.savefig('dominant_dist.pdf')"
   ]
  },
  {
   "cell_type": "code",
   "execution_count": 64,
   "metadata": {
    "collapsed": false
   },
   "outputs": [],
   "source": [
    "domi = dict(collections.Counter(dominant))\n",
    "sorteddomi = sorted(domi.items(), key = lambda x:x[0], reverse = True)\n",
    "x = [item[0] for item in sorteddomi]\n",
    "y = [item[1] for item in sorteddomi]\n",
    "plt.plot(x, y)\n",
    "plt.xscale('log')\n",
    "plt.yscale('log')\n",
    "plt.savefig('dominant_dist.pdf')\n",
    "plt.close()"
   ]
  },
  {
   "cell_type": "code",
   "execution_count": 66,
   "metadata": {
    "collapsed": false
   },
   "outputs": [],
   "source": [
    "plt.scatter(newRateI, dominant, s = 0.5, edgecolors = 'face')\n",
    "plt.savefig('test2.pdf')\n",
    "plt.close()"
   ]
  },
  {
   "cell_type": "code",
   "execution_count": 77,
   "metadata": {
    "collapsed": false
   },
   "outputs": [],
   "source": [
    "# Get indexes for users (users who haven't checked in are considered 0)\n",
    "userNum = userGraph.GetNodes()\n",
    "placeNumI = []\n",
    "newRateI = []\n",
    "for NId in xrange(userNum):\n",
    "    if NId in checkins.keys():\n",
    "        checkinfo = checkins[NId]\n",
    "        timeline = sorted(checkinfo.items(), key = lambda x:x[0])\n",
    "        places = [item[1] for item in timeline]\n",
    "        placeNumI.append(len(set(places)))\n",
    "        if len(places) == 1:\n",
    "            newRateI.append(0.0)\n",
    "        else:\n",
    "            oldIndex = len(places) / 2\n",
    "            old = set(places[0:oldIndex])\n",
    "            newVisit = 0\n",
    "            for k in places[oldIndex:]:\n",
    "                if k not in old:\n",
    "                    newVisit += 1\n",
    "            newRateI.append(1.0 * newVisit / (len(places) - oldIndex))\n",
    "    else:\n",
    "        placeNumI.append(0.0)\n",
    "        newRateI.append(0.0)\n",
    "\n",
    "# Plot newRateI\n",
    "new = dict(collections.Counter(newRateI))\n",
    "sortednew = sorted(new.items(), key = lambda x:x[0], reverse = True)\n",
    "x = [item[0] for item in sortednew]\n",
    "y = [item[1] for item in sortednew]\n",
    "plt.plot(x, y, color = '#088da5')\n",
    "plt.xscale('log')\n",
    "plt.yscale('log')\n",
    "plt.xlim(xmax = 1)\n",
    "plt.xlabel('New Rate Index')\n",
    "plt.ylabel('Frequency')\n",
    "plt.savefig('newrate_dist.pdf')\n",
    "plt.close()"
   ]
  },
  {
   "cell_type": "code",
   "execution_count": 79,
   "metadata": {
    "collapsed": false
   },
   "outputs": [
    {
     "data": {
      "text/plain": [
       "58228"
      ]
     },
     "execution_count": 79,
     "metadata": {},
     "output_type": "execute_result"
    }
   ],
   "source": [
    "len(newRateI)"
   ]
  },
  {
   "cell_type": "code",
   "execution_count": 81,
   "metadata": {
    "collapsed": false
   },
   "outputs": [
    {
     "data": {
      "text/plain": [
       "58228"
      ]
     },
     "execution_count": 81,
     "metadata": {},
     "output_type": "execute_result"
    }
   ],
   "source": [
    "userGraph.GetNodes()"
   ]
  },
  {
   "cell_type": "code",
   "execution_count": 82,
   "metadata": {
    "collapsed": false
   },
   "outputs": [
    {
     "data": {
      "text/plain": [
       "51406"
      ]
     },
     "execution_count": 82,
     "metadata": {},
     "output_type": "execute_result"
    }
   ],
   "source": [
    "len(dominant)"
   ]
  },
  {
   "cell_type": "code",
   "execution_count": 84,
   "metadata": {
    "collapsed": false
   },
   "outputs": [],
   "source": [
    "with open('newRateIndex_full.txt', 'w') as f:\n",
    "    f.write('\\n'.join([str(i) for i in newRateI]))"
   ]
  },
  {
   "cell_type": "code",
   "execution_count": 85,
   "metadata": {
    "collapsed": true
   },
   "outputs": [],
   "source": [
    "with open('degreeIndex_full.txt', 'w') as f:\n",
    "    f.write('\\n'.join([str(i) for i in placeNumI]))"
   ]
  },
  {
   "cell_type": "code",
   "execution_count": 86,
   "metadata": {
    "collapsed": true
   },
   "outputs": [],
   "source": [
    "dominant = []\n",
    "for node in userGraph.Nodes():\n",
    "    NId = node.GetId()\n",
    "    if NId in checkins.keys():\n",
    "        checkinfo = checkins[NId]\n",
    "        timeline = sorted(checkinfo.items(), key = lambda x:x[0])\n",
    "        places = [item[1] for item in timeline]\n",
    "        Pmc = util.massCenter(places, coordinates)\n",
    "        placeNum = len(dict(collections.Counter(places)))\n",
    "        R = util.radius(places, coordinates, Pmc)\n",
    "        for k in xrange(1, placeNum + 1):\n",
    "            if util.radius(places, coordinates, util.massCenterK(places, coordinates, k)) <= 1.01 * R:\n",
    "                # dominantRate.append(100.0 * k / placeNum)\n",
    "                dominant.append(k)\n",
    "                break\n",
    "\n",
    "with open('dominanceIndex.txt', 'w') as f:\n",
    "    f.write('\\n'.join([str(i) for i in dominant]))"
   ]
  },
  {
   "cell_type": "code",
   "execution_count": 87,
   "metadata": {
    "collapsed": true
   },
   "outputs": [],
   "source": [
    "userNum = userGraph.GetNodes()\n",
    "placeNumI = []\n",
    "newRateI = []\n",
    "for NId in xrange(userNum):\n",
    "    if NId in checkins.keys():\n",
    "        checkinfo = checkins[NId]\n",
    "        timeline = sorted(checkinfo.items(), key = lambda x:x[0])\n",
    "        places = [item[1] for item in timeline]\n",
    "        placeNumI.append(len(set(places)))\n",
    "        if len(places) == 1:\n",
    "            newRateI.append(0.0)\n",
    "        else:\n",
    "            oldIndex = len(places) / 2\n",
    "            old = set(places[0:oldIndex])\n",
    "            newVisit = 0\n",
    "            for k in places[oldIndex:]:\n",
    "                if k not in old:\n",
    "                    newVisit += 1\n",
    "            newRateI.append(1.0 * newVisit / (len(places) - oldIndex))\n",
    "with open('newRateIndex_part.txt', 'w') as f:\n",
    "    f.write('\\n'.join([str(i) for i in newRateI]))\n",
    "with open('degreeIndex_part.txt', 'w') as f:\n",
    "    f.write('\\n'.join([str(i) for i in placeNumI]))"
   ]
  },
  {
   "cell_type": "code",
   "execution_count": 5,
   "metadata": {
    "collapsed": false
   },
   "outputs": [],
   "source": [
    "newRateI = []\n",
    "with open('newRateIndex_part.txt') as f:\n",
    "    for line in f: newRateI.append(float(line.split()[0]))\n",
    "placeNumI = []\n",
    "with open('degreeIndex_part.txt') as f:\n",
    "    for line in f: placeNumI.append(int(line.split()[0]))\n",
    "dominant = []        \n",
    "with open('dominanceIndex.txt') as f:\n",
    "    for line in f: dominant.append(int(line.split()[0]))\n",
    "from pandas.tools.plotting import scatter_matrix\n",
    "import numpy as np\n",
    "nI = np.log(newRateI)\n",
    "pI = np.log(placeNumI)\n",
    "dI = np.log(dominant)\n"
   ]
  },
  {
   "cell_type": "code",
   "execution_count": 8,
   "metadata": {
    "collapsed": false
   },
   "outputs": [],
   "source": [
    "import pandas as pd\n",
    "df = pd.DataFrame({'Degree Index':placeNumI, 'New Rate Index': newRateI, 'Dominance Index': dominant})"
   ]
  },
  {
   "cell_type": "code",
   "execution_count": 10,
   "metadata": {
    "collapsed": false
   },
   "outputs": [],
   "source": [
    "scatter_matrix(df, alpha=0.2, figsize=(10, 10), diagonal='kde')\n",
    "import matplotlib.pyplot as plt\n",
    "plt.savefig('user_scatter_matrix.pdf')\n",
    "plt.close()"
   ]
  },
  {
   "cell_type": "code",
   "execution_count": 13,
   "metadata": {
    "collapsed": false
   },
   "outputs": [
    {
     "data": {
      "text/plain": [
       "7.117436556200229"
      ]
     },
     "execution_count": 13,
     "metadata": {},
     "output_type": "execute_result"
    }
   ],
   "source": [
    "snap.GetAnfEffDiam(snap.GetMxWcc(userGraph))"
   ]
  },
  {
   "cell_type": "code",
   "execution_count": 15,
   "metadata": {
    "collapsed": false
   },
   "outputs": [
    {
     "data": {
      "text/plain": [
       "12.00716661920268"
      ]
     },
     "execution_count": 15,
     "metadata": {},
     "output_type": "execute_result"
    }
   ],
   "source": [
    "snap.GetAnfEffDiam(snap.GetMxWcc(geoGraph))"
   ]
  },
  {
   "cell_type": "code",
   "execution_count": 12,
   "metadata": {
    "collapsed": false
   },
   "outputs": [],
   "source": [
    "def dom(placeList, coordinates, delta):\n",
    "    R = util.radius(placeList, coordinates)\n",
    "    placeNum = len(dict(collections.Counter(placeList)))\n",
    "    for k in xrange(1, placeNum + 1):\n",
    "        if util.radiusK(placeList, coordinates, k) >= delta * R:\n",
    "            return k, 100.0 * k / placeNum"
   ]
  },
  {
   "cell_type": "code",
   "execution_count": 25,
   "metadata": {
    "collapsed": false
   },
   "outputs": [],
   "source": [
    "# Test delta\n",
    "import util\n",
    "import collections\n",
    "deltas = [0.6, 0.7, 0.8, 0.9, 0.95, 0.99]\n",
    "dominant = {delta:[] for delta in deltas}\n",
    "dominantRate = {delta:[] for delta in deltas}\n",
    "plots = [None] * 6\n",
    "labels = ['delta = ' + str(delta) for delta in deltas]\n",
    "for i in xrange(6):\n",
    "    delta = deltas[i]\n",
    "    for node in userGraph.Nodes():\n",
    "        NId = node.GetId()\n",
    "        if NId in checkins.keys():\n",
    "            checkinfo = checkins[NId]\n",
    "            timeline = sorted(checkinfo.items(), key = lambda x:x[0])\n",
    "            places = [item[1] for item in timeline]\n",
    "            a, b = dom(places, coordinates, delta)\n",
    "            dominant[delta].append(a)\n",
    "            dominantRate[delta].append(b)\n",
    "    domi = dict(collections.Counter(dominant[delta]))\n",
    "    sorteddomi = sorted(domi.items(), key = lambda x:x[0], reverse = True)\n",
    "    x = [item[0] for item in sorteddomi]\n",
    "    y = [item[1] for item in sorteddomi]\n",
    "    plots[i] ,= plt.plot(x, y)\n",
    "plt.xscale('log')\n",
    "plt.yscale('log')\n",
    "plt.legend(tuple(plots), tuple(labels))\n",
    "plt.xlabel('Dominance Index')\n",
    "plt.ylabel('Frequency')\n",
    "plt.savefig('dominant_dist.pdf')\n",
    "\n",
    "for i in xrange(6):\n",
    "    delta = deltas[i]\n",
    "    with open('dominanceI' + str(i) + '.txt', 'w') as f:\n",
    "        f.write('\\n'.join([str(i) for i in dominant[delta]]))\n",
    "    with open('dominanceRateI' + str(i) + '.txt', 'w') as f:\n",
    "        f.write('\\n'.join([str(i) for i in dominantRate[delta]]))"
   ]
  },
  {
   "cell_type": "code",
   "execution_count": 26,
   "metadata": {
    "collapsed": false
   },
   "outputs": [
    {
     "data": {
      "text/plain": [
       "51406"
      ]
     },
     "execution_count": 26,
     "metadata": {},
     "output_type": "execute_result"
    }
   ],
   "source": [
    "len(dominant[0.99])"
   ]
  },
  {
   "cell_type": "code",
   "execution_count": 1,
   "metadata": {
    "collapsed": true
   },
   "outputs": [],
   "source": [
    "newRateI = []\n",
    "with open('newRateIndex_part.txt') as f:\n",
    "    for line in f: newRateI.append(float(line.split()[0]))\n",
    "placeNumI = []\n",
    "with open('degreeIndex_part.txt') as f:\n",
    "    for line in f: placeNumI.append(int(line.split()[0]))"
   ]
  },
  {
   "cell_type": "code",
   "execution_count": 2,
   "metadata": {
    "collapsed": true
   },
   "outputs": [],
   "source": [
    "dominanceI = []\n",
    "with open('dominanceI2.txt') as f:\n",
    "    for line in f: dominanceI.append(int(line.split()[0]))"
   ]
  },
  {
   "cell_type": "code",
   "execution_count": 3,
   "metadata": {
    "collapsed": true
   },
   "outputs": [],
   "source": [
    "import pandas as pd\n",
    "df = pd.DataFrame({'Degree Index':placeNumI, 'New Rate Index': newRateI, 'Dominance Index': dominanceI})"
   ]
  },
  {
   "cell_type": "code",
   "execution_count": 6,
   "metadata": {
    "collapsed": false
   },
   "outputs": [],
   "source": [
    "from pandas.tools.plotting import scatter_matrix\n",
    "import numpy as np\n",
    "scatter_matrix(df, alpha=0.2, figsize=(20, 20), diagonal='kde')\n",
    "import matplotlib.pyplot as plt\n",
    "plt.savefig('user_scatter_matrix.png')\n",
    "plt.close()"
   ]
  },
  {
   "cell_type": "code",
   "execution_count": null,
   "metadata": {
    "collapsed": true
   },
   "outputs": [],
   "source": []
  }
 ],
 "metadata": {
  "anaconda-cloud": {},
  "kernelspec": {
   "display_name": "Python [conda root]",
   "language": "python",
   "name": "conda-root-py"
  },
  "language_info": {
   "codemirror_mode": {
    "name": "ipython",
    "version": 2
   },
   "file_extension": ".py",
   "mimetype": "text/x-python",
   "name": "python",
   "nbconvert_exporter": "python",
   "pygments_lexer": "ipython2",
   "version": "2.7.12"
  }
 },
 "nbformat": 4,
 "nbformat_minor": 1
}
